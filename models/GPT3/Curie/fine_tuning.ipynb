{
 "cells": [
  {
   "attachments": {},
   "cell_type": "markdown",
   "metadata": {},
   "source": [
    "<b>Important Note:</b></br> \n",
    "This is the script used for uploading the training dataset to fine-tune the GPT-3 on the Curie engine. The model itself can online be accessed using the API key and the model ID."
   ]
  },
  {
   "attachments": {},
   "cell_type": "markdown",
   "metadata": {},
   "source": [
    "<h2>Install and import OpenAI</h2>"
   ]
  },
  {
   "cell_type": "code",
   "execution_count": null,
   "metadata": {},
   "outputs": [
    {
     "name": "stdout",
     "output_type": "stream",
     "text": [
      "Requirement already satisfied: openai in /Users/avimalhotra/opt/anaconda3/lib/python3.9/site-packages (0.27.2)\n",
      "Requirement already satisfied: requests>=2.20 in /Users/avimalhotra/opt/anaconda3/lib/python3.9/site-packages (from openai) (2.26.0)\n",
      "Requirement already satisfied: tqdm in /Users/avimalhotra/opt/anaconda3/lib/python3.9/site-packages (from openai) (4.62.3)\n",
      "Requirement already satisfied: aiohttp in /Users/avimalhotra/opt/anaconda3/lib/python3.9/site-packages (from openai) (3.8.4)\n",
      "Requirement already satisfied: charset-normalizer~=2.0.0 in /Users/avimalhotra/opt/anaconda3/lib/python3.9/site-packages (from requests>=2.20->openai) (2.0.4)\n",
      "Requirement already satisfied: urllib3<1.27,>=1.21.1 in /Users/avimalhotra/opt/anaconda3/lib/python3.9/site-packages (from requests>=2.20->openai) (1.26.7)\n",
      "Requirement already satisfied: certifi>=2017.4.17 in /Users/avimalhotra/opt/anaconda3/lib/python3.9/site-packages (from requests>=2.20->openai) (2021.10.8)\n",
      "Requirement already satisfied: idna<4,>=2.5 in /Users/avimalhotra/opt/anaconda3/lib/python3.9/site-packages (from requests>=2.20->openai) (3.2)\n",
      "Requirement already satisfied: frozenlist>=1.1.1 in /Users/avimalhotra/opt/anaconda3/lib/python3.9/site-packages (from aiohttp->openai) (1.3.3)\n",
      "Requirement already satisfied: multidict<7.0,>=4.5 in /Users/avimalhotra/opt/anaconda3/lib/python3.9/site-packages (from aiohttp->openai) (6.0.4)\n",
      "Requirement already satisfied: async-timeout<5.0,>=4.0.0a3 in /Users/avimalhotra/opt/anaconda3/lib/python3.9/site-packages (from aiohttp->openai) (4.0.2)\n",
      "Requirement already satisfied: aiosignal>=1.1.2 in /Users/avimalhotra/opt/anaconda3/lib/python3.9/site-packages (from aiohttp->openai) (1.3.1)\n",
      "Requirement already satisfied: yarl<2.0,>=1.0 in /Users/avimalhotra/opt/anaconda3/lib/python3.9/site-packages (from aiohttp->openai) (1.8.2)\n",
      "Requirement already satisfied: attrs>=17.3.0 in /Users/avimalhotra/opt/anaconda3/lib/python3.9/site-packages (from aiohttp->openai) (21.2.0)\n",
      "Note: you may need to restart the kernel to use updated packages.\n"
     ]
    }
   ],
   "source": [
    "pip install openai"
   ]
  },
  {
   "cell_type": "code",
   "execution_count": 6,
   "metadata": {},
   "outputs": [],
   "source": [
    "import openai"
   ]
  },
  {
   "attachments": {},
   "cell_type": "markdown",
   "metadata": {},
   "source": [
    "<h2>Enter the private API key</h2>"
   ]
  },
  {
   "cell_type": "code",
   "execution_count": 8,
   "metadata": {},
   "outputs": [],
   "source": [
    "openai.api_key = \"sk-REDACTED\"\n"
   ]
  },
  {
   "attachments": {},
   "cell_type": "markdown",
   "metadata": {},
   "source": [
    "<h2>Upload the formatted training data</h2>\n",
    "The \"processed_data.csv\" is converted to \"training_data_prepared.jsonl\" using the CLI Data Preparation Tool made by OpenAI. For more information, check \"format.py\" or click <a href=\"https://platform.openai.com/docs/guides/fine-tuning/cli-data-preparation-tool\">here</a>."
   ]
  },
  {
   "cell_type": "code",
   "execution_count": 9,
   "metadata": {},
   "outputs": [
    {
     "data": {
      "text/plain": [
       "<File file id=file-2pnlwHvlhKuksi0FNziXTWH1 at 0x7fe6d118ebd0> JSON: {\n",
       "  \"bytes\": 7049200,\n",
       "  \"created_at\": 1679235934,\n",
       "  \"filename\": \"file\",\n",
       "  \"id\": \"file-2pnlwHvlhKuksi0FNziXTWH1\",\n",
       "  \"object\": \"file\",\n",
       "  \"purpose\": \"fine-tune\",\n",
       "  \"status\": \"uploaded\",\n",
       "  \"status_details\": null\n",
       "}"
      ]
     },
     "execution_count": 9,
     "metadata": {},
     "output_type": "execute_result"
    }
   ],
   "source": [
    "training_data = openai.File.create(\n",
    "  file=open(\"training_data_prepared.jsonl\", \"rb\"),\n",
    "  purpose='fine-tune'\n",
    ")\n",
    "file_id = training_data.id\n",
    "training_data"
   ]
  },
  {
   "attachments": {},
   "cell_type": "markdown",
   "metadata": {},
   "source": [
    "<h2>Commence the training and monitor updates until completion"
   ]
  },
  {
   "cell_type": "code",
   "execution_count": 16,
   "metadata": {},
   "outputs": [],
   "source": [
    "response = openai.FineTune.create(training_file=file_id, model=\"curie\")\n"
   ]
  },
  {
   "cell_type": "code",
   "execution_count": 27,
   "metadata": {},
   "outputs": [
    {
     "data": {
      "text/plain": [
       "[<OpenAIObject fine-tune-event at 0x7fe69016cd10> JSON: {\n",
       "   \"created_at\": 1679236142,\n",
       "   \"level\": \"info\",\n",
       "   \"message\": \"Created fine-tune: ft-gd2YlOv7sNpFjbUW1lf6pgST\",\n",
       "   \"object\": \"fine-tune-event\"\n",
       " }]"
      ]
     },
     "execution_count": 27,
     "metadata": {},
     "output_type": "execute_result"
    }
   ],
   "source": [
    "response.events"
   ]
  },
  {
   "cell_type": "code",
   "execution_count": 37,
   "metadata": {},
   "outputs": [
    {
     "data": {
      "text/plain": [
       "[<OpenAIObject fine-tune-event at 0x7fe69016cd10> JSON: {\n",
       "   \"created_at\": 1679236142,\n",
       "   \"level\": \"info\",\n",
       "   \"message\": \"Created fine-tune: ft-gd2YlOv7sNpFjbUW1lf6pgST\",\n",
       "   \"object\": \"fine-tune-event\"\n",
       " }]"
      ]
     },
     "execution_count": 37,
     "metadata": {},
     "output_type": "execute_result"
    }
   ],
   "source": [
    "response.events"
   ]
  },
  {
   "attachments": {},
   "cell_type": "markdown",
   "metadata": {},
   "source": [
    "<h2>Store the fine-tuned model ID for later use</h2>"
   ]
  },
  {
   "cell_type": "code",
   "execution_count": 36,
   "metadata": {},
   "outputs": [
    {
     "data": {
      "text/plain": [
       "<OpenAIObject list at 0x7fe6d11be860> JSON: {\n",
       "  \"data\": [\n",
       "    {\n",
       "      \"created_at\": 1679236012,\n",
       "      \"fine_tuned_model\": \"curie:ft-personal-2023-03-19-14-51-14\",\n",
       "      \"hyperparams\": {\n",
       "        \"batch_size\": 128,\n",
       "        \"learning_rate_multiplier\": 0.2,\n",
       "        \"n_epochs\": 4,\n",
       "        \"prompt_loss_weight\": 0.01\n",
       "      },\n",
       "      \"id\": \"ft-9wPnhY4jSZGmYQNQHFbjEddI\",\n",
       "      \"model\": \"curie\",\n",
       "      \"object\": \"fine-tune\",\n",
       "      \"organization_id\": \"org-D83GJnhjKkHh1ufIrL38Ecez\",\n",
       "      \"result_files\": [\n",
       "        {\n",
       "          \"bytes\": 153992,\n",
       "          \"created_at\": 1679237475,\n",
       "          \"filename\": \"compiled_results.csv\",\n",
       "          \"id\": \"file-nsUs3i5J3JhmEa8zdC8E5Oig\",\n",
       "          \"object\": \"file\",\n",
       "          \"purpose\": \"fine-tune-results\",\n",
       "          \"status\": \"processed\",\n",
       "          \"status_details\": null\n",
       "        }\n",
       "      ],\n",
       "      \"status\": \"succeeded\",\n",
       "      \"training_files\": [\n",
       "        {\n",
       "          \"bytes\": 7049200,\n",
       "          \"created_at\": 1679235934,\n",
       "          \"filename\": \"file\",\n",
       "          \"id\": \"file-2pnlwHvlhKuksi0FNziXTWH1\",\n",
       "          \"object\": \"file\",\n",
       "          \"purpose\": \"fine-tune\",\n",
       "          \"status\": \"processed\",\n",
       "          \"status_details\": null\n",
       "        }\n",
       "      ],\n",
       "      \"updated_at\": 1679237476,\n",
       "      \"validation_files\": []\n",
       "    },\n",
       "    {\n",
       "      \"created_at\": 1679236069,\n",
       "      \"fine_tuned_model\": null,\n",
       "      \"hyperparams\": {\n",
       "        \"batch_size\": null,\n",
       "        \"learning_rate_multiplier\": null,\n",
       "        \"n_epochs\": 4,\n",
       "        \"prompt_loss_weight\": 0.01\n",
       "      },\n",
       "      \"id\": \"ft-TSfcSoH1ZXAYrpSbuIYL6vG4\",\n",
       "      \"model\": \"davinci\",\n",
       "      \"object\": \"fine-tune\",\n",
       "      \"organization_id\": \"org-D83GJnhjKkHh1ufIrL38Ecez\",\n",
       "      \"result_files\": [],\n",
       "      \"status\": \"failed\",\n",
       "      \"training_files\": [\n",
       "        {\n",
       "          \"bytes\": 7049200,\n",
       "          \"created_at\": 1679235934,\n",
       "          \"filename\": \"file\",\n",
       "          \"id\": \"file-2pnlwHvlhKuksi0FNziXTWH1\",\n",
       "          \"object\": \"file\",\n",
       "          \"purpose\": \"fine-tune\",\n",
       "          \"status\": \"processed\",\n",
       "          \"status_details\": null\n",
       "        }\n",
       "      ],\n",
       "      \"updated_at\": 1679236221,\n",
       "      \"validation_files\": []\n",
       "    },\n",
       "    {\n",
       "      \"created_at\": 1679236139,\n",
       "      \"fine_tuned_model\": null,\n",
       "      \"hyperparams\": {\n",
       "        \"batch_size\": null,\n",
       "        \"learning_rate_multiplier\": null,\n",
       "        \"n_epochs\": 4,\n",
       "        \"prompt_loss_weight\": 0.01\n",
       "      },\n",
       "      \"id\": \"ft-qxLmNss3576JugXmlUm0ih5y\",\n",
       "      \"model\": \"davinci\",\n",
       "      \"object\": \"fine-tune\",\n",
       "      \"organization_id\": \"org-D83GJnhjKkHh1ufIrL38Ecez\",\n",
       "      \"result_files\": [],\n",
       "      \"status\": \"failed\",\n",
       "      \"training_files\": [\n",
       "        {\n",
       "          \"bytes\": 7049200,\n",
       "          \"created_at\": 1679235934,\n",
       "          \"filename\": \"file\",\n",
       "          \"id\": \"file-2pnlwHvlhKuksi0FNziXTWH1\",\n",
       "          \"object\": \"file\",\n",
       "          \"purpose\": \"fine-tune\",\n",
       "          \"status\": \"processed\",\n",
       "          \"status_details\": null\n",
       "        }\n",
       "      ],\n",
       "      \"updated_at\": 1679236317,\n",
       "      \"validation_files\": []\n",
       "    },\n",
       "    {\n",
       "      \"created_at\": 1679236142,\n",
       "      \"fine_tuned_model\": null,\n",
       "      \"hyperparams\": {\n",
       "        \"batch_size\": null,\n",
       "        \"learning_rate_multiplier\": null,\n",
       "        \"n_epochs\": 4,\n",
       "        \"prompt_loss_weight\": 0.01\n",
       "      },\n",
       "      \"id\": \"ft-gd2YlOv7sNpFjbUW1lf6pgST\",\n",
       "      \"model\": \"davinci\",\n",
       "      \"object\": \"fine-tune\",\n",
       "      \"organization_id\": \"org-D83GJnhjKkHh1ufIrL38Ecez\",\n",
       "      \"result_files\": [],\n",
       "      \"status\": \"failed\",\n",
       "      \"training_files\": [\n",
       "        {\n",
       "          \"bytes\": 7049200,\n",
       "          \"created_at\": 1679235934,\n",
       "          \"filename\": \"file\",\n",
       "          \"id\": \"file-2pnlwHvlhKuksi0FNziXTWH1\",\n",
       "          \"object\": \"file\",\n",
       "          \"purpose\": \"fine-tune\",\n",
       "          \"status\": \"processed\",\n",
       "          \"status_details\": null\n",
       "        }\n",
       "      ],\n",
       "      \"updated_at\": 1679236318,\n",
       "      \"validation_files\": []\n",
       "    }\n",
       "  ],\n",
       "  \"object\": \"list\"\n",
       "}"
      ]
     },
     "execution_count": 36,
     "metadata": {},
     "output_type": "execute_result"
    }
   ],
   "source": [
    "openai.FineTune.list()\n",
    "# store this entry for later use\n",
    "# \"fine_tuned_model\": \"curie:ft-personal-2023-03-19-14-51-14\","
   ]
  },
  {
   "cell_type": "code",
   "execution_count": null,
   "metadata": {},
   "outputs": [],
   "source": []
  }
 ],
 "metadata": {
  "kernelspec": {
   "display_name": "Python 3 (ipykernel)",
   "language": "python",
   "name": "python3"
  },
  "language_info": {
   "codemirror_mode": {
    "name": "ipython",
    "version": 3
   },
   "file_extension": ".py",
   "mimetype": "text/x-python",
   "name": "python",
   "nbconvert_exporter": "python",
   "pygments_lexer": "ipython3",
   "version": "3.9.7"
  }
 },
 "nbformat": 4,
 "nbformat_minor": 2
}
